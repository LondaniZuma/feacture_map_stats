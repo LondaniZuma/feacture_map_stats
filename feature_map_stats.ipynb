{
 "cells": [
  {
   "cell_type": "code",
   "execution_count": 18,
   "metadata": {},
   "outputs": [],
   "source": [
    "import numpy as np\n",
    "import pandas as pd\n",
    "import torch.cuda\n",
    "import torch.nn as nn\n",
    "import torch.optim as optim\n",
    "from torch.utils.data import DataLoader\n",
    "from torch.autograd import Variable\n",
    "import tqdm\n",
    "import torch.backends.cudnn as cudnn\n",
    "\n",
    "from models.htr_net import HTRNet\n",
    "from utils.save_load import my_torch_load"
   ]
  },
  {
   "cell_type": "markdown",
   "metadata": {},
   "source": [
    "feature map extraction code taken from: https://androidkt.com/how-to-visualize-feature-maps-in-convolutional-neural-networks-using-pytorch/"
   ]
  },
  {
   "cell_type": "code",
   "execution_count": 19,
   "metadata": {},
   "outputs": [],
   "source": [
    "classes = '_@,-.0123456789ABCDEFGHIJKLMNOPQRSTUVWXYZ '\n",
    "cnn_cfg = [(2, 32), 'M', (4, 64), 'M', (6, 128), 'M', (2, 256)]\n",
    "rnn_cfg = (256, 1)  # (hidden , num_layers)"
   ]
  },
  {
   "cell_type": "code",
   "execution_count": 20,
   "metadata": {},
   "outputs": [],
   "source": [
    "model = 'real_10epochs_alphanumeric.pt'\n",
    "net = HTRNet(cnn_cfg, rnn_cfg, len(classes))\n",
    "my_torch_load(net, model);"
   ]
  },
  {
   "cell_type": "markdown",
   "metadata": {},
   "source": [
    "Print weights:"
   ]
  },
  {
   "cell_type": "code",
   "execution_count": 22,
   "metadata": {},
   "outputs": [],
   "source": [
    "# weights = []\n",
    "# for param in net.parameters():\n",
    "#     print(param.data)\n",
    "#     weights.append(param.data)"
   ]
  },
  {
   "cell_type": "code",
   "execution_count": 23,
   "metadata": {},
   "outputs": [],
   "source": [
    "import cv2\n",
    "import random\n",
    "import matplotlib.pyplot as plt\n",
    "from skimage import io as img_io\n",
    "from utils.auxilary_functions import image_resize, centered\n",
    "import os\n",
    "from shutil import copyfile"
   ]
  },
  {
   "cell_type": "code",
   "execution_count": 24,
   "metadata": {},
   "outputs": [],
   "source": [
    "def get_conv_layers(net):\n",
    "    no_of_layers=0\n",
    "    conv_layers=[]\n",
    "\n",
    "    model_children=list(net.children())\n",
    "#     print(len(model_children))\n",
    "\n",
    "    count = 0\n",
    "    for child in model_children:\n",
    "#         print(count)\n",
    "        if type(child) == nn.Conv2d:\n",
    "            no_of_layers+=1\n",
    "            conv_layers.append(child)\n",
    "\n",
    "        if type(child) != torch.nn.modules.rnn.LSTM:\n",
    "            for layer in child:\n",
    "                if type(layer)==nn.Conv2d:\n",
    "                    no_of_layers+=1\n",
    "                    conv_layers.append(layer)\n",
    "        count = count + 1\n",
    "        \n",
    "    return conv_layers"
   ]
  },
  {
   "cell_type": "code",
   "execution_count": 25,
   "metadata": {},
   "outputs": [],
   "source": [
    "def get_feature_maps(net, img, net_name):\n",
    "\n",
    "    outputs = []\n",
    "    conv_layers = get_conv_layers(net)\n",
    "    results = [conv_layers[0](Variable(img).unsqueeze(0))]\n",
    "    for i in range(1, len(conv_layers)):\n",
    "        results.append(conv_layers[i](results[-1]))\n",
    "    outputs = results\n",
    "    \n",
    "    fn = \"feature_maps_\" + net_name + \".txt\"\n",
    "    if os.path.exists(fn):\n",
    "        f = open(fn, \"r+\")\n",
    "        f.truncate(0)\n",
    "        f.close()\n",
    "        \n",
    "    all_stats = []\n",
    "    \n",
    "    for num_layer in range(len(outputs)):\n",
    "        plt.figure(figsize=(60, 10))\n",
    "        layer_viz = outputs[num_layer][0, :, :, :]\n",
    "        layer_viz = layer_viz.data\n",
    "        \n",
    "        print(\"Layer \",num_layer+1)\n",
    "        stats = []\n",
    "        \n",
    "        for i, filter in enumerate(layer_viz):\n",
    "            if i == 16: \n",
    "                break\n",
    "            plt.subplot(8, 2, i + 1)\n",
    "            plt.imshow(filter, cmap='gray')\n",
    "            plt.axis(\"off\")\n",
    "            fil = np.array(filter)\n",
    "            stats.append([np.mean(fil), np.var(fil)])\n",
    "            \n",
    "        stats = sorted(stats)\n",
    "#         for row in stats:\n",
    "#             print(np.round(row,6))\n",
    "            \n",
    "        f = open(fn, \"a\")\n",
    "        f.write(\"Layer \" + str(num_layer) + \"\\n\")\n",
    "        for row in stats:\n",
    "            st = str(round(row[0],6)) + \", \" + str(round(row[1],6)) + \"\\n\"\n",
    "            f.write(st)\n",
    "        f.write(\"\\n\")\n",
    "        f.close()\n",
    "    \n",
    "        plt.savefig(\"feature_maps/layer\" + str(num_layer) + \"_\" + net_name + '.png')\n",
    "#         plt.show()\n",
    "        plt.close()\n",
    "#         break\n",
    "        all_stats.append(stats)\n",
    "    return np.array(all_stats)"
   ]
  },
  {
   "cell_type": "markdown",
   "metadata": {},
   "source": [
    "Read in image:"
   ]
  },
  {
   "cell_type": "code",
   "execution_count": 26,
   "metadata": {},
   "outputs": [
    {
     "data": {
      "image/png": "[encoded data removed]",
      "text/plain": [
       "<Figure size 432x288 with 1 Axes>"
      ]
     },
     "metadata": {
      "needs_background": "light"
     },
     "output_type": "display_data"
    }
   ],
   "source": [
    "im_file = \"real_only/1348612.png\"\n",
    "img = img_io.imread(im_file)\n",
    "# img = cv2.cvtColor(img,cv2.COLOR_BGR2GRAY)\n",
    "plt.imshow(img, cmap='gray')\n",
    "plt.show()"
   ]
  },
  {
   "cell_type": "markdown",
   "metadata": {},
   "source": [
    "Prep image:"
   ]
  },
  {
   "cell_type": "code",
   "execution_count": 27,
   "metadata": {},
   "outputs": [],
   "source": [
    "nheight = 128\n",
    "nwidth = int(np.random.uniform(.8, 1.2) * img.shape[1] * nheight / img.shape[0])\n",
    "\n",
    "img = image_resize(img, height=nheight-16, width=nwidth)\n",
    "img = centered(img, (nheight, int(1.2 * nwidth) + 32))\n",
    "img = torch.Tensor(img).float().unsqueeze(0)"
   ]
  },
  {
   "cell_type": "markdown",
   "metadata": {},
   "source": [
    "Get stats:"
   ]
  },
  {
   "cell_type": "code",
   "execution_count": 28,
   "metadata": {},
   "outputs": [
    {
     "name": "stdout",
     "output_type": "stream",
     "text": [
      "Layer  1\n",
      "Layer  2\n",
      "Layer  3\n",
      "Layer  4\n",
      "Layer  5\n",
      "Layer  6\n",
      "Layer  7\n",
      "Layer  8\n",
      "Layer  9\n",
      "Layer  10\n",
      "Layer  11\n",
      "Layer  12\n",
      "Layer  13\n",
      "Layer  14\n"
     ]
    }
   ],
   "source": [
    "statsr = get_feature_maps(net, img, \"name\")"
   ]
  },
  {
   "cell_type": "markdown",
   "metadata": {},
   "source": [
    "Plot means of feature maps:"
   ]
  },
  {
   "cell_type": "code",
   "execution_count": 30,
   "metadata": {},
   "outputs": [],
   "source": [
    "for i in range(14):\n",
    "    plt.figure(figsize=(14, 10))\n",
    "    plt.plot(statsr[i][:,0], label=\"network1\", linewidth=3)\n",
    "#     plt.plot(stats_n1[i][:,0], label=\"network2\", linewidth=3)\n",
    "    plt.legend()\n",
    "    plt.xlabel(\"feature_map\")\n",
    "    plt.ylabel(\"mean pixel value\")\n",
    "    plt.savefig(\"plots/means_layer\" + str(i) + \".jpg\", dpi=100) \n",
    "    plt.close()"
   ]
  },
  {
   "cell_type": "markdown",
   "metadata": {},
   "source": [
    "Plot variances of feature maps:"
   ]
  },
  {
   "cell_type": "code",
   "execution_count": 31,
   "metadata": {},
   "outputs": [],
   "source": [
    "for i in range(14):\n",
    "    plt.figure(figsize=(14, 10))\n",
    "    plt.plot(statsr[i][:,1], label=\"network1\", linewidth=3)\n",
    "#     plt.plot(stats_n1[i][:,1], label=\"network2\", linewidth=3)\n",
    "    plt.legend()\n",
    "    plt.xlabel(\"feature_map\")\n",
    "    plt.ylabel(\"pixel variance\")\n",
    "    plt.savefig(\"plots/var_layer\" + str(i) + \".jpg\", dpi=100) \n",
    "    plt.close()"
   ]
  },
  {
   "cell_type": "markdown",
   "metadata": {},
   "source": [
    "Plot average variance for each feature map:"
   ]
  },
  {
   "cell_type": "code",
   "execution_count": 32,
   "metadata": {},
   "outputs": [],
   "source": [
    "plt.figure(figsize=(14, 10))\n",
    "plt.yscale(\"log\")\n",
    "plt.plot(np.mean(statsr[:,:,1], axis=1), label=\"network1\", linewidth=3)\n",
    "# plt.plot(np.mean(stats_n1[:,:,1], axis=1), label=\"network2\", linewidth=3)\n",
    "plt.legend()\n",
    "plt.xlabel(\"network layer\")\n",
    "plt.ylabel(\"mean pixel variance\")\n",
    "plt.savefig(\"plots/average_var.jpg\", dpi=100) \n",
    "plt.close()"
   ]
  },
  {
   "cell_type": "code",
   "execution_count": null,
   "metadata": {},
   "outputs": [],
   "source": []
  }
 ],
 "metadata": {
  "kernelspec": {
   "display_name": "Python 3",
   "language": "python",
   "name": "python3"
  },
  "language_info": {
   "codemirror_mode": {
    "name": "ipython",
    "version": 3
   },
   "file_extension": ".py",
   "mimetype": "text/x-python",
   "name": "python",
   "nbconvert_exporter": "python",
   "pygments_lexer": "ipython3",
   "version": "3.8.10"
  }
 },
 "nbformat": 4,
 "nbformat_minor": 4
}
